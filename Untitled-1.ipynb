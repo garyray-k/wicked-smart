{
 "cells": [
  {
   "attachments": {},
   "cell_type": "markdown",
   "metadata": {},
   "source": [
    "@w_s_bitcoin challenge"
   ]
  },
  {
   "attachments": {},
   "cell_type": "markdown",
   "metadata": {},
   "source": [
    "1.png"
   ]
  },
  {
   "cell_type": "code",
   "execution_count": 63,
   "metadata": {},
   "outputs": [
    {
     "name": "stdout",
     "output_type": "stream",
     "text": [
      "True\n",
      "True\n"
     ]
    }
   ],
   "source": [
    "inputs = [\n",
    "    '1101010111010101001110010001110111000101010101000110100001011000101010011010011111110100111011110010101111011111010111100110010110101100101011110101010011000111111110111011100100101101011010011110001011101111001111100101101111001111101100110001101000100100',\n",
    "    '1010110010101010101101010110101001011110101111001100010101100101010110111011011110100101110101100000001100101111111010100011001010001110111010101011011101011100000011011011101111110010001001100101011010111100111011111100100100001110110011101100111111111110'\n",
    "]\n",
    "\n",
    "print(len(inputs[0]) == 256)\n",
    "print(len(inputs[1]) == 256)"
   ]
  },
  {
   "cell_type": "code",
   "execution_count": 68,
   "metadata": {},
   "outputs": [
    {
     "name": "stdout",
     "output_type": "stream",
     "text": [
      "=====done\n",
      "01000100100\n",
      "False\n",
      "False\n",
      "=====done\n",
      "01110101011\n",
      "False\n",
      "False\n",
      "=====done\n",
      "10111011011\n",
      "False\n",
      "False\n",
      "=====done\n",
      "10001010100\n",
      "False\n",
      "False\n",
      "end input\n",
      "=====done\n",
      "11111111110\n",
      "False\n",
      "False\n",
      "=====done\n",
      "10100110101\n",
      "False\n",
      "False\n",
      "=====done\n",
      "00000000001\n",
      "False\n",
      "False\n",
      "=====done\n",
      "01011001010\n",
      "False\n",
      "False\n",
      "end input\n"
     ]
    }
   ],
   "source": [
    "\n",
    "# bit_string = \"110010101010101011001011011101110010101011100110\"  # Example bit string\n",
    "def get_numbers(bit_string):\n",
    "    # Calculate the number of 11-bit groups in the string\n",
    "    num_groups = len(bit_string) // 11\n",
    "    numbers = []\n",
    "    # Iterate through the bit string, capturing every 11 bits and converting them to base 10\n",
    "    for i in range(num_groups):\n",
    "        start = i * 11\n",
    "        end = start + 11\n",
    "        captured_bits = bit_string[start:end]\n",
    "        base_10_number = int(captured_bits, 2)\n",
    "        numbers.append(base_10_number)\n",
    "        # print(f\"Captured bits: {captured_bits}, Base 10 number: {base_10_number}\")\n",
    "    return numbers\n",
    "\n",
    "import linecache\n",
    "\n",
    "def get_line(line_number):\n",
    "    \"\"\"\n",
    "    Returns the text from the specified line in the file.\n",
    "    \"\"\"\n",
    "    return linecache.getline('wordlist', line_number).strip()\n",
    "\n",
    "import hashlib\n",
    "\n",
    "def get_words(get_numbers, get_line, count, input):\n",
    "    words = []\n",
    "    numbers = get_numbers(input)\n",
    "    for number in numbers:\n",
    "        count += 1\n",
    "        # print(str(count) +' '+ get_line(number)  + \"    \" + str(number))\n",
    "        words.append(get_line(number+1))\n",
    "    count += 1\n",
    "    first_23_words_in_bits = input[:-11]\n",
    "    hash_object = hashlib.sha256(first_23_words_in_bits.encode())\n",
    "    hash_bytes = hash_object.digest()\n",
    "    first_byte = hash_bytes[0]\n",
    "    binary_value = bin(first_byte)[2:].zfill(8)[:11]\n",
    "    base_10_number = int(binary_value, 2)\n",
    "    checksum_from_string = input[-11:]\n",
    "    # print(str(count) +' '+ get_line(base_10_number+1) + \"   \" + binary_value)\n",
    "    words.append(get_line(base_10_number+1))\n",
    "    print(\"=====done\")\n",
    "    print(checksum_from_string)\n",
    "    print(int(checksum_from_string,2) == base_10_number+1)\n",
    "    print(int(checksum_from_string,2) == base_10_number)\n",
    "    return words\n",
    "\n",
    "all_combos = []\n",
    "for input in inputs:\n",
    "    count = 0\n",
    "    all_combos.append(get_words(get_numbers, get_line, count, input))\n",
    "    all_combos.append(get_words(get_numbers, get_line, count, input[::-1]))\n",
    "    flipped_string = ''.join(str(int(not int(bit))) for bit in input)\n",
    "    all_combos.append(get_words(get_numbers, get_line, count, flipped_string))\n",
    "    all_combos.append(get_words(get_numbers, get_line, count, flipped_string[::-1]))\n",
    "    print(\"end input\")\n",
    "\n",
    "\n",
    "\n"
   ]
  }
 ],
 "metadata": {
  "kernelspec": {
   "display_name": "Python 3",
   "language": "python",
   "name": "python3"
  },
  "language_info": {
   "codemirror_mode": {
    "name": "ipython",
    "version": 3
   },
   "file_extension": ".py",
   "mimetype": "text/x-python",
   "name": "python",
   "nbconvert_exporter": "python",
   "pygments_lexer": "ipython3",
   "version": "3.11.2"
  },
  "orig_nbformat": 4
 },
 "nbformat": 4,
 "nbformat_minor": 2
}
